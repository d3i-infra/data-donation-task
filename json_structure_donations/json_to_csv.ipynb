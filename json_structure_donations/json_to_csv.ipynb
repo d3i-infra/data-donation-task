{
 "cells": [
  {
   "cell_type": "code",
   "execution_count": 180,
   "metadata": {},
   "outputs": [],
   "source": [
    "import pandas as pd\n",
    "import json\n",
    "import re\n",
    "import numpy as np\n",
    "import ast\n"
   ]
  },
  {
   "cell_type": "code",
   "execution_count": 181,
   "metadata": {},
   "outputs": [],
   "source": [
    "# Load JSON file\n",
    "with open('/home/rvissche/Nextcloud/What-If/data/json_structure_donations/json_structure_2_RB_Facebook.json', 'r') as f:\n",
    "    data = json.load(f)"
   ]
  },
  {
   "cell_type": "code",
   "execution_count": 182,
   "metadata": {},
   "outputs": [],
   "source": [
    "# Flatten JSON (handling nested structures)\n",
    "df = pd.json_normalize(data, max_level=0)\n",
    "df.columns = df.columns.str.replace(r'^[^/]+/', '', regex=True)"
   ]
  },
  {
   "cell_type": "code",
   "execution_count": 183,
   "metadata": {},
   "outputs": [],
   "source": [
    "cols = df.columns[0:2775]\n",
    "df = pd.melt(df, value_vars= cols)"
   ]
  },
  {
   "cell_type": "code",
   "execution_count": 184,
   "metadata": {},
   "outputs": [],
   "source": [
    "df['path_1'] = df['variable'].str.split('/', n=1).str[0]\n",
    "df['path_2'] = df['variable'].str.split('/', n=3).str[1]\n",
    "df['path_3'] = df['variable'].str.split('/', n=3).str[2]\n",
    "df['path_4'] = df['variable'].str.split('/', n=3).str[3]\n",
    "df['json_name'] = df['variable'].str.rsplit('/', n=1).str[-1]\n"
   ]
  },
  {
   "cell_type": "code",
   "execution_count": 185,
   "metadata": {},
   "outputs": [],
   "source": [
    "for index, row in df.iterrows():\n",
    "    if isinstance(row['value'], list):\n",
    "        df.at[index, 'value'] = row['value'][0]"
   ]
  },
  {
   "cell_type": "code",
   "execution_count": 186,
   "metadata": {},
   "outputs": [],
   "source": [
    "df['json_1'] = ''\n",
    "for index, row in df.iterrows():\n",
    "    df.at[index, 'json_1'] = list(row['value'].keys())\n",
    "\n",
    "df = df.explode('json_1')"
   ]
  },
  {
   "cell_type": "code",
   "execution_count": 187,
   "metadata": {},
   "outputs": [],
   "source": [
    "df['json_2'] = df.apply(lambda row: [row['value'].get(row['json_1'], None)], axis=1)\n"
   ]
  },
  {
   "cell_type": "code",
   "execution_count": 188,
   "metadata": {},
   "outputs": [],
   "source": [
    "df['json_2'] = df['json_2'].apply(lambda x: x[0] if isinstance(x, list) else x)\n",
    "df['json_2'] = df['json_2'].apply(lambda x: x[0] if isinstance(x, list) else x)\n",
    "df = df.explode('json_2')\n"
   ]
  },
  {
   "cell_type": "code",
   "execution_count": 190,
   "metadata": {},
   "outputs": [
    {
     "name": "stdout",
     "output_type": "stream",
     "text": [
      "<class 'list'>\n"
     ]
    }
   ],
   "source": [
    "data_types = ['string', 'array', 'number', 'boolean']\n",
    "print(type(data_types))"
   ]
  },
  {
   "cell_type": "code",
   "execution_count": 191,
   "metadata": {},
   "outputs": [],
   "source": [
    "def process_json_2(row):\n",
    "    if row['json_2'] in data_types:\n",
    "        row['data_type'] = row['json_2']\n",
    "        row['json_2'] = np.nan\n",
    "    return row\n",
    "\n",
    "df = df.apply(process_json_2, axis=1)\n"
   ]
  },
  {
   "cell_type": "code",
   "execution_count": 192,
   "metadata": {},
   "outputs": [],
   "source": [
    "df = df.loc[:, ['variable', 'value', 'path_1', 'path_2',\n",
    "       'path_3', 'path_4', 'json_name', 'json_1', 'json_2', 'data_type']]"
   ]
  },
  {
   "cell_type": "code",
   "execution_count": 178,
   "metadata": {},
   "outputs": [],
   "source": [
    "for index, row in df.iterrows():\n",
    "    if isinstance(row['json_2'], str) and row['json_2'] in data_types:\n",
    "        df.at[index, 'data_type'] = row['json_2']\n",
    "        df.at[index, 'json_2'] = np.nan\n",
    "    "
   ]
  }
 ],
 "metadata": {
  "kernelspec": {
   "display_name": "data-donations",
   "language": "python",
   "name": "python3"
  },
  "language_info": {
   "codemirror_mode": {
    "name": "ipython",
    "version": 3
   },
   "file_extension": ".py",
   "mimetype": "text/x-python",
   "name": "python",
   "nbconvert_exporter": "python",
   "pygments_lexer": "ipython3",
   "version": "3.13.1"
  }
 },
 "nbformat": 4,
 "nbformat_minor": 2
}
