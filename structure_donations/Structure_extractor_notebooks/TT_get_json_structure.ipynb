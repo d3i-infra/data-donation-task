{
 "cells": [
  {
   "cell_type": "code",
   "execution_count": null,
   "metadata": {},
   "outputs": [],
   "source": [
    "import json\n",
    "import os\n",
    "from pathlib import Path "
   ]
  },
  {
   "cell_type": "code",
   "execution_count": null,
   "metadata": {},
   "outputs": [],
   "source": [
    "import json\n",
    "import os\n",
    "\n",
    "def infer_placeholder(value):\n",
    "    if isinstance(value, str):\n",
    "        return \"string\"\n",
    "    elif isinstance(value, bool):\n",
    "        return \"boolean\"\n",
    "    elif isinstance(value, int) or isinstance(value, float):\n",
    "        return \"number\"\n",
    "    elif isinstance(value, list):\n",
    "        return [\"array\"]\n",
    "    elif isinstance(value, dict):\n",
    "        return {k: infer_placeholder(v) for k, v in value.items()}\n",
    "    elif value is None:\n",
    "        return None\n",
    "    else:\n",
    "        return \"unknown\"\n",
    "\n",
    "def simplify_json_structure(data):\n",
    "    if isinstance(data, dict):\n",
    "        return {k: simplify_json_structure(v) for k, v in data.items()}\n",
    "    elif isinstance(data, list):\n",
    "        if len(data) > 0:\n",
    "            return [simplify_json_structure(data[0])]\n",
    "        else:\n",
    "            return [\"array\"]\n",
    "    else:\n",
    "        return infer_placeholder(data)\n",
    "\n",
    "def save_structure(placeholder_content,json_path ):\n",
    "    # Serializing json\n",
    "    json_object = json.dumps(placeholder_content, indent=2)\n",
    "    json_name = Path(json_path).stem \n",
    "\n",
    "    # Writing json\n",
    "    with open(f\"{main_path}TikTok/Input_test/TT_structure_{json_name}.json\", \"w\") as outfile:\n",
    "        outfile.write(json_object)\n",
    "\n",
    "def structure_from_json_file(json_path):\n",
    "    #json_path = json_path.strip()\n",
    "\n",
    "    try:\n",
    "        with open(json_path, 'r') as f:\n",
    "            content = json.load(f)\n",
    "            placeholder_content = simplify_json_structure(content)\n",
    "    except json.JSONDecodeError:\n",
    "        print(f\"Error: Could not decode JSON from {json_path}\")\n",
    "        return None\n",
    "    \n",
    "    save_structure(placeholder_content,json_path )\n",
    "    # Return the result as a pretty-printed JSON string\n",
    "    return json.dumps(placeholder_content, indent=2)\n"
   ]
  },
  {
   "cell_type": "code",
   "execution_count": 7,
   "metadata": {},
   "outputs": [],
   "source": [
    "main_path = \"/home/rvissche/Nextcloud/What-If/what-if-data-donation/what-if-data-donation/structure_donations/Processed_structure_donations/\"\n",
    "input_directory = Path(f'{main_path}TikTok/Raw')  "
   ]
  },
  {
   "cell_type": "code",
   "execution_count": 8,
   "metadata": {},
   "outputs": [],
   "source": [
    "for file in input_directory.iterdir():  \n",
    "    if file.is_file():  \n",
    "       structure_from_json_file(file)"
   ]
  }
 ],
 "metadata": {
  "kernelspec": {
   "display_name": "data-donations",
   "language": "python",
   "name": "python3"
  },
  "language_info": {
   "codemirror_mode": {
    "name": "ipython",
    "version": 3
   },
   "file_extension": ".py",
   "mimetype": "text/x-python",
   "name": "python",
   "nbconvert_exporter": "python",
   "pygments_lexer": "ipython3",
   "version": "3.13.1"
  }
 },
 "nbformat": 4,
 "nbformat_minor": 2
}
