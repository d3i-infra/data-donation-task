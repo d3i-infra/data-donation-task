{
 "cells": [
  {
   "cell_type": "code",
   "execution_count": 12,
   "metadata": {},
   "outputs": [],
   "source": [
    "import pandas as pd\n",
    "import json\n",
    "import re\n",
    "import numpy as np\n",
    "import ast\n",
    "from pathlib import Path  "
   ]
  },
  {
   "cell_type": "code",
   "execution_count": null,
   "metadata": {},
   "outputs": [],
   "source": [
    "main_path = \"/home/rvissche/Nextcloud/What-If/what-if-data-donation/what-if-data-donation/structure_donations/Processed_structure_donations/\"\n"
   ]
  },
  {
   "cell_type": "code",
   "execution_count": 14,
   "metadata": {},
   "outputs": [],
   "source": [
    "# Define the data types\n",
    "data_types = ['string', 'array', 'number', 'boolean', 'object', 'str', 'int', 'float', 'bool', 'dict', 'list']\n",
    "columns = ['col_path_1','col_path_2','col_path_3','col_path_4', 'col_path_5']\n",
    "\n",
    "\n",
    "def process_row_path(row, columns, data_types):\n",
    "    row['data_type'] = ''\n",
    "    for column in columns:\n",
    "        if row[column] in data_types:\n",
    "            row['data_type'] = row[column]\n",
    "            row[column] = np.nan\n",
    "        else:\n",
    "            row[column]\n",
    "    return row\n"
   ]
  },
  {
   "cell_type": "code",
   "execution_count": 15,
   "metadata": {},
   "outputs": [],
   "source": [
    "def file_paths(df):\n",
    "    # Create different colums for each part of the document path\n",
    "    df['path_1'] = df['variable'].str.split('/', n=1).str[0]\n",
    "    df['path_2'] = df['variable'].str.split('/', n=3).str[1]\n",
    "    df['path_3'] = df['variable'].str.split('/', n=3).str[2]\n",
    "    df['path_4'] = df['variable'].str.split('/', n=3).str[3]\n",
    "\n",
    "    # Create a column with the JSON name\n",
    "    df['json_name'] = df['variable'].str.rsplit('/', n=1).str[-1]\n",
    "\n",
    "\n",
    "    # As the JSON name is stored in the json_name column, fill other parts of the path with Na if the name of the JSON is present\n",
    "    mark = \".json\"\n",
    "\n",
    "    df['path_2'] = df['path_2'].apply(lambda x: np.nan if isinstance(x, str) and mark in x else x)\n",
    "    df['path_3'] = df['path_3'].apply(lambda x: np.nan if isinstance(x, str) and mark in x else x)\n",
    "    df['path_4'] = df['path_4'].apply(lambda x: np.nan if isinstance(x, str) and mark in x else x)\n",
    "\n",
    "    # Unlist the value column (where the JSON info is stored)\n",
    "    for index, row in df.iterrows():\n",
    "        if isinstance(row['value'], list):\n",
    "            df.at[index, 'value'] = row['value'][0]\n",
    "    \n",
    "    return df"
   ]
  },
  {
   "cell_type": "code",
   "execution_count": 16,
   "metadata": {},
   "outputs": [],
   "source": [
    "def string_to_dict(s):\n",
    "    if ',' not in s and ':' not in s:\n",
    "        return s\n",
    "    result = {}\n",
    "    items = s.split(',')\n",
    "    for item in items:\n",
    "        if ':' not in item:\n",
    "            continue  \n",
    "        key, value = item.split(':', 1)  # use maxsplit=1 to avoid unpacking issues\n",
    "        try:\n",
    "            key = eval(key.strip())\n",
    "            value = eval(value.strip())\n",
    "        except Exception as e:\n",
    "            continue\n",
    "        result[key] = value\n",
    "    return result\n",
    "\n",
    "    "
   ]
  },
  {
   "cell_type": "code",
   "execution_count": 18,
   "metadata": {},
   "outputs": [],
   "source": [
    "def row_column_paths(df):\n",
    "    # Initialize the new columns\n",
    "    df['row_path'] = '' \n",
    "    df['col_path_1'] = ''  \n",
    "    df['col_path_2'] = ''  \n",
    "    df['col_path_3'] = ''\n",
    "    df['col_path_4'] = ''\n",
    "    df['col_path_5'] = '' \n",
    "\n",
    "    # Extract the level 1 keys \n",
    "    for index, row in df.iterrows():\n",
    "        df.at[index, 'row_path'] = list(row['value'].keys())\n",
    "\n",
    "    df['row_path'] = df['row_path'].astype('str').apply(eval).str[0]\n",
    "\n",
    "    # Take the level 1 keys stored in a list and store them in individual rows\n",
    "    df = df.explode('row_path')\n",
    "\n",
    "    def column_paths(df, row_var, get_var, unlist_var, explode_var):\n",
    "\n",
    "        print(\"before\", df[row_var].apply(type).value_counts())\n",
    "        \n",
    "        # Convert to dict if it's a string\n",
    "        df[row_var] = df[row_var].apply(\n",
    "            lambda x: string_to_dict(x) if isinstance(x, str) else x)\n",
    "        \n",
    "        print(\"After\", df[row_var].apply(type).value_counts())\n",
    "        \n",
    "        # Extract nested values using keys\n",
    "        df[unlist_var] = df.apply(lambda row: [row[row_var].get(row[get_var], None)] if isinstance (row[row_var], dict) else None, axis=1)\n",
    "\n",
    "\n",
    "        # Unlist and explode\n",
    "        df[unlist_var] = df[unlist_var].apply(lambda x: x[0] if isinstance(x, list) else x)\n",
    "        df[unlist_var] = df[unlist_var].apply(lambda x: x[0] if isinstance(x, list) else x)\n",
    "        \n",
    "        df[explode_var] = df[unlist_var]\n",
    "        df = df.explode(explode_var)\n",
    "\n",
    "    \n",
    "\n",
    "        return df\n",
    "\n",
    "    row_var = ['value', 'col_path_1_values', 'col_path_2_values', 'col_path_3_values', 'col_path_4_values']\n",
    "    get_var = ['row_path', 'col_path_1', 'col_path_2', 'col_path_3', 'col_path_4']\n",
    "    unlist_var = ['col_path_1_values', 'col_path_2_values', 'col_path_3_values', 'col_path_4_values', 'col_path_5_values']\n",
    "    explode_var = ['col_path_1', 'col_path_2', 'col_path_3', 'col_path_4', 'col_path_5']\n",
    "\n",
    "    for r, g, u, e in zip(row_var, get_var, unlist_var, explode_var):\n",
    "        df = column_paths(df, r, g, u, e)\n",
    "        row_var = unlist_var\n",
    "\n",
    "    return df\n"
   ]
  },
  {
   "cell_type": "code",
   "execution_count": 19,
   "metadata": {},
   "outputs": [],
   "source": [
    "def clean_and_store(df, file_name):\n",
    " \n",
    "    # Reorder the columns in the df\n",
    "    df = df.loc[:, ['variable', 'value', 'path_1', 'path_2',\n",
    "        'path_3', 'path_4', 'json_name', 'row_path', 'col_path_1','col_path_2','col_path_3', 'col_path_4', 'col_path_5','data_type', 'col_path_1_values','col_path_2_values','col_path_3_values', 'col_path_4_values', 'col_path_5_values']]\n",
    "    \n",
    "    df.reset_index(drop=True, inplace=True)\n",
    "    df = df.fillna('Missing')\n",
    "    #df = df.astype(str)\n",
    "    \n",
    "\n",
    "\n",
    "    df.to_csv(f\"{main_path}Instagram/Output/Output_\" + file_name + '.csv', index=False)\n",
    "\n",
    "    return df"
   ]
  },
  {
   "cell_type": "code",
   "execution_count": null,
   "metadata": {},
   "outputs": [],
   "source": []
  },
  {
   "cell_type": "code",
   "execution_count": 20,
   "metadata": {},
   "outputs": [],
   "source": [
    "def structure_donations(data):\n",
    "\n",
    "    data = Path(data)  \n",
    "    #file_name = data.name  # Extracts \"data.json\"\n",
    "    file_name = Path(data).stem \n",
    "\n",
    "    # Load JSON file\n",
    "    with open(data, 'r') as f:\n",
    "        data = json.load(f)\n",
    "\n",
    "    \n",
    "    # Flatten JSON (handling nested structures)\n",
    "    df = pd.json_normalize(data, max_level=0)\n",
    "    display(df)\n",
    "\n",
    "    # Delete user specific informations\n",
    "    df.columns = df.columns.str.replace(r'^[^/]+/', '', regex=True)\n",
    "    display(df)\n",
    "\n",
    "    # Extract column names\n",
    "    cols = df.columns.tolist()\n",
    "\n",
    "\n",
    "    # From wide to long df\n",
    "    df = pd.melt(df, value_vars= cols)\n",
    "\n",
    "    df = file_paths(df)\n",
    "    \n",
    "    df = row_column_paths(df)\n",
    "    \n",
    "    df = df.apply(lambda row: process_row_path(row, columns, data_types), axis=1)\n",
    "    \n",
    "    df = clean_and_store(df, file_name)\n",
    "    \n",
    "    \n",
    "    return df\n"
   ]
  },
  {
   "cell_type": "code",
   "execution_count": 21,
   "metadata": {},
   "outputs": [
    {
     "name": "stdout",
     "output_type": "stream",
     "text": [
      "structure_donations/Processed_structure_donations/Instagram/Input_test\n"
     ]
    }
   ],
   "source": [
    "input_directory = Path(f'{main_path}Instagram/Input_test')  \n",
    "print(input_directory)"
   ]
  },
  {
   "cell_type": "code",
   "execution_count": 22,
   "metadata": {},
   "outputs": [
    {
     "ename": "FileNotFoundError",
     "evalue": "[Errno 2] No such file or directory: 'structure_donations/Processed_structure_donations/Instagram/Input_test'",
     "output_type": "error",
     "traceback": [
      "\u001b[31m---------------------------------------------------------------------------\u001b[39m",
      "\u001b[31mFileNotFoundError\u001b[39m                         Traceback (most recent call last)",
      "\u001b[36mCell\u001b[39m\u001b[36m \u001b[39m\u001b[32mIn[22]\u001b[39m\u001b[32m, line 1\u001b[39m\n\u001b[32m----> \u001b[39m\u001b[32m1\u001b[39m \u001b[38;5;28;01mfor\u001b[39;00m file \u001b[38;5;129;01min\u001b[39;00m \u001b[43minput_directory\u001b[49m\u001b[43m.\u001b[49m\u001b[43miterdir\u001b[49m\u001b[43m(\u001b[49m\u001b[43m)\u001b[49m:  \n\u001b[32m      2\u001b[39m     \u001b[38;5;28;01mif\u001b[39;00m file.is_file():  \n\u001b[32m      3\u001b[39m         \u001b[38;5;28mprint\u001b[39m(file)\n",
      "\u001b[36mFile \u001b[39m\u001b[32m~/miniconda3/envs/data-donations/lib/python3.13/pathlib/_local.py:575\u001b[39m, in \u001b[36mPath.iterdir\u001b[39m\u001b[34m(self)\u001b[39m\n\u001b[32m    569\u001b[39m \u001b[38;5;250m\u001b[39m\u001b[33;03m\"\"\"Yield path objects of the directory contents.\u001b[39;00m\n\u001b[32m    570\u001b[39m \n\u001b[32m    571\u001b[39m \u001b[33;03mThe children are yielded in arbitrary order, and the\u001b[39;00m\n\u001b[32m    572\u001b[39m \u001b[33;03mspecial entries '.' and '..' are not included.\u001b[39;00m\n\u001b[32m    573\u001b[39m \u001b[33;03m\"\"\"\u001b[39;00m\n\u001b[32m    574\u001b[39m root_dir = \u001b[38;5;28mstr\u001b[39m(\u001b[38;5;28mself\u001b[39m)\n\u001b[32m--> \u001b[39m\u001b[32m575\u001b[39m \u001b[38;5;28;01mwith\u001b[39;00m \u001b[43mos\u001b[49m\u001b[43m.\u001b[49m\u001b[43mscandir\u001b[49m\u001b[43m(\u001b[49m\u001b[43mroot_dir\u001b[49m\u001b[43m)\u001b[49m \u001b[38;5;28;01mas\u001b[39;00m scandir_it:\n\u001b[32m    576\u001b[39m     paths = [entry.path \u001b[38;5;28;01mfor\u001b[39;00m entry \u001b[38;5;129;01min\u001b[39;00m scandir_it]\n\u001b[32m    577\u001b[39m \u001b[38;5;28;01mif\u001b[39;00m root_dir == \u001b[33m'\u001b[39m\u001b[33m.\u001b[39m\u001b[33m'\u001b[39m:\n",
      "\u001b[31mFileNotFoundError\u001b[39m: [Errno 2] No such file or directory: 'structure_donations/Processed_structure_donations/Instagram/Input_test'"
     ]
    }
   ],
   "source": [
    "\n",
    "for file in input_directory.iterdir():  \n",
    "    if file.is_file():  \n",
    "        print(file)\n",
    "        structure_donations(file)\n",
    "        "
   ]
  },
  {
   "cell_type": "code",
   "execution_count": null,
   "metadata": {},
   "outputs": [],
   "source": []
  },
  {
   "cell_type": "code",
   "execution_count": null,
   "metadata": {},
   "outputs": [
    {
     "name": "stdout",
     "output_type": "stream",
     "text": [
      "variable                0\n",
      "value                   0\n",
      "path_1                  0\n",
      "path_2               1717\n",
      "path_3               2545\n",
      "path_4               3212\n",
      "json_name               0\n",
      "row_path                0\n",
      "col_path_1            474\n",
      "col_path_2           1908\n",
      "col_path_3           2432\n",
      "col_path_4           3107\n",
      "col_path_5           3196\n",
      "data_type              70\n",
      "col_path_1_values       0\n",
      "col_path_2_values     474\n",
      "col_path_3_values    1908\n",
      "col_path_4_values    2432\n",
      "col_path_5_values    3107\n",
      "dtype: int64\n"
     ]
    },
    {
     "name": "stderr",
     "output_type": "stream",
     "text": [
      "/tmp/ipykernel_102350/1853675807.py:28: FutureWarning: Downcasting behavior in `replace` is deprecated and will be removed in a future version. To retain the old behavior, explicitly call `result.infer_objects(copy=False)`. To opt-in to the future behavior, set `pd.set_option('future.no_silent_downcasting', True)`\n",
      "  df_final = df_final.replace('Missing', np.nan)\n"
     ]
    }
   ],
   "source": [
    "# Path to the folder containing CSV files\n",
    "output_path = f\"{main_path}Instagram/Output\"\n",
    "\n",
    "# Get a list of all CSV files in the folder\n",
    "csv_files = list(Path(output_path).glob(\"*.csv\"))\n",
    "\n",
    "# Load all CSVs into a list of DataFrames\n",
    "dfs = [pd.read_csv(file) for file in csv_files]\n",
    "\n",
    "\n",
    "common_columns = ['variable', 'value', 'path_1', 'path_2',\n",
    "        'path_3', 'path_4', 'json_name', 'row_path', 'col_path_1','col_path_2','col_path_3', 'col_path_4', 'col_path_5','data_type', 'col_path_1_values','col_path_2_values','col_path_3_values', 'col_path_4_values', 'col_path_5_values']\n",
    "\n",
    "\n",
    "merged_df = dfs[0]  # Start with the first DataFrame\n",
    "for df in dfs[1:]:  # Merge with the rest  #\n",
    "    merged_df = merged_df.merge(df, on=common_columns, how=\"outer\")\n",
    "\n",
    "\n",
    "\n",
    "\n",
    "# Filter where col1 contains 'messages', then drop duplicates based on col2\n",
    "df_filtered = merged_df[merged_df[\"path_1\"] == \"messages\"].drop_duplicates(subset=\"path_2\")\n",
    "\n",
    "\n",
    "# Append rows where col1 does not contain 'messages'\n",
    "df_final = pd.concat([df_filtered, merged_df[merged_df[\"path_1\"] != \"messages\"]], ignore_index=True)\n",
    "df_final = df_final.replace('Missing', np.nan)\n",
    "\n",
    "\n",
    "print(df_final.isna().sum())\n",
    "\n",
    "# Save the final merged DataFrame\n",
    "df_final.to_csv(f\"{main_path}Instagram/Final/Merged_structures_IG.csv\", index=False)"
   ]
  }
 ],
 "metadata": {
  "kernelspec": {
   "display_name": "data-donations",
   "language": "python",
   "name": "python3"
  },
  "language_info": {
   "codemirror_mode": {
    "name": "ipython",
    "version": 3
   },
   "file_extension": ".py",
   "mimetype": "text/x-python",
   "name": "python",
   "nbconvert_exporter": "python",
   "pygments_lexer": "ipython3",
   "version": "3.13.1"
  }
 },
 "nbformat": 4,
 "nbformat_minor": 2
}
