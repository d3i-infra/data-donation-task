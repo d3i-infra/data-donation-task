{
 "cells": [
  {
   "cell_type": "code",
   "execution_count": 16,
   "metadata": {},
   "outputs": [],
   "source": [
    "# importing libraries \n",
    "import pandas as pd \n",
    "import glob \n",
    "import os \n",
    "  \n"
   ]
  },
  {
   "cell_type": "code",
   "execution_count": 17,
   "metadata": {},
   "outputs": [
    {
     "name": "stdout",
     "output_type": "stream",
     "text": [
      "['/home/rvissche/Nextcloud/What-If/what-if-data-donation/what-if-data-donation/structure_donations/Processed_structure_donations/Youtube/Column_names_output/Column_Names_YT_takeout-20250604T082845Z-1-001.csv', '/home/rvissche/Nextcloud/What-If/what-if-data-donation/what-if-data-donation/structure_donations/Processed_structure_donations/Youtube/Column_names_output/Column_Names_YT_takeout-20250219T154247Z-001.csv', '/home/rvissche/Nextcloud/What-If/what-if-data-donation/what-if-data-donation/structure_donations/Processed_structure_donations/Youtube/Column_names_output/Column_Names_YT_takeout-20250220T150314Z-001.csv']\n"
     ]
    }
   ],
   "source": [
    " \n",
    "main_path = main_path = \"/home/rvissche/Nextcloud/What-If/what-if-data-donation/what-if-data-donation/structure_donations/Processed_structure_donations/Youtube/\"\n",
    "pattern = os.path.join(main_path, \"Column_names_output\", \"*.csv\")\n",
    "\n",
    "joined_list = glob.glob(pattern)\n",
    "print(joined_list)\n",
    "  \n",
    "# Finally, the files are joined \n",
    "df = pd.concat(map(pd.read_csv, joined_list), ignore_index=True) \n",
    "df = df.drop_duplicates() "
   ]
  },
  {
   "cell_type": "code",
   "execution_count": 18,
   "metadata": {},
   "outputs": [],
   "source": [
    "df.to_csv(f\"{main_path}Column_names_final/Merged_Column_Names_YT.csv\", index=False)"
   ]
  }
 ],
 "metadata": {
  "kernelspec": {
   "display_name": "data-donations",
   "language": "python",
   "name": "python3"
  },
  "language_info": {
   "codemirror_mode": {
    "name": "ipython",
    "version": 3
   },
   "file_extension": ".py",
   "mimetype": "text/x-python",
   "name": "python",
   "nbconvert_exporter": "python",
   "pygments_lexer": "ipython3",
   "version": "3.13.1"
  }
 },
 "nbformat": 4,
 "nbformat_minor": 2
}
