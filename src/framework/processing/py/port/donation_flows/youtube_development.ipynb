{
 "cells": [
  {
   "cell_type": "code",
   "execution_count": null,
   "metadata": {},
   "outputs": [],
   "source": [
    "import pandas as pd \n",
    "import glob \n",
    "import os "
   ]
  },
  {
   "cell_type": "code",
   "execution_count": null,
   "metadata": {},
   "outputs": [],
   "source": [
    "# specifying the path to csv files \n",
    "main_path = \"/home/rvissche/Documents/Data_takeout_Nienke_PRIVATE/Youtube/Fake_JSON_takeout-20250220T151747Z-001\"\n",
    "\n",
    "#print(files)\n",
    "  \n",
    "# defining an empty list to store  \n",
    "data_frame = pd.DataFrame() \n",
    "keys = []\n",
    "values = [] \n",
    "  \n",
    "\n",
    "files = glob.glob(main_path + \"/**/*.csv\", recursive = True)\n",
    "print(files)\n",
    "\n",
    "for filename in files: \n",
    "\n",
    "    key = os.path.basename(filename)\n",
    "    keys.append(key)\n",
    "    print(key)\n",
    "\n",
    "    # reading content of csv file \n",
    "    # content.append(filename) \n",
    "    df = pd.read_csv(filename, index_col=None) \n",
    "    values.append(df) \n",
    "\n",
    "\n",
    "csv_dict = {}\n",
    "# Using a for loop to populate the dictionary\n",
    "for i in range(len(keys)):\n",
    "    csv_dict[keys[i]] = values[i]\n"
   ]
  }
 ],
 "metadata": {
  "kernelspec": {
   "display_name": "data-donations",
   "language": "python",
   "name": "python3"
  },
  "language_info": {
   "name": "python",
   "version": "3.13.1"
  }
 },
 "nbformat": 4,
 "nbformat_minor": 2
}
