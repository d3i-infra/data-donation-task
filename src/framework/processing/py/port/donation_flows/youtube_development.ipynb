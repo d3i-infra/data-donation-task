{
 "cells": [
  {
   "cell_type": "code",
   "execution_count": 1,
   "metadata": {},
   "outputs": [],
   "source": [
    "import pandas as pd \n",
    "import glob \n",
    "import os "
   ]
  },
  {
   "cell_type": "code",
   "execution_count": 2,
   "metadata": {},
   "outputs": [
    {
     "name": "stdout",
     "output_type": "stream",
     "text": [
      "['/home/rvissche/Documents/Data_takeout_Nienke_PRIVATE/Youtube/Fake_JSON_takeout-20250220T151747Z-001/Takeout/YouTube and YouTube Music/channels/channel URL configs.csv', '/home/rvissche/Documents/Data_takeout_Nienke_PRIVATE/Youtube/Fake_JSON_takeout-20250220T151747Z-001/Takeout/YouTube and YouTube Music/channels/channel community moderation settings.csv', '/home/rvissche/Documents/Data_takeout_Nienke_PRIVATE/Youtube/Fake_JSON_takeout-20250220T151747Z-001/Takeout/YouTube and YouTube Music/channels/channel page settings.csv', '/home/rvissche/Documents/Data_takeout_Nienke_PRIVATE/Youtube/Fake_JSON_takeout-20250220T151747Z-001/Takeout/YouTube and YouTube Music/channels/channel.csv', '/home/rvissche/Documents/Data_takeout_Nienke_PRIVATE/Youtube/Fake_JSON_takeout-20250220T151747Z-001/Takeout/YouTube and YouTube Music/channels/channel feature data.csv', '/home/rvissche/Documents/Data_takeout_Nienke_PRIVATE/Youtube/Fake_JSON_takeout-20250220T151747Z-001/Takeout/YouTube and YouTube Music/playlists/playlists.csv', '/home/rvissche/Documents/Data_takeout_Nienke_PRIVATE/Youtube/Fake_JSON_takeout-20250220T151747Z-001/Takeout/YouTube and YouTube Music/playlists/Tryal-videos.csv', '/home/rvissche/Documents/Data_takeout_Nienke_PRIVATE/Youtube/Fake_JSON_takeout-20250220T151747Z-001/Takeout/YouTube and YouTube Music/playlists/Watch later-videos.csv', '/home/rvissche/Documents/Data_takeout_Nienke_PRIVATE/Youtube/Fake_JSON_takeout-20250220T151747Z-001/Takeout/YouTube and YouTube Music/playlists/HPC-videos.csv', '/home/rvissche/Documents/Data_takeout_Nienke_PRIVATE/Youtube/Fake_JSON_takeout-20250220T151747Z-001/Takeout/YouTube and YouTube Music/subscriptions/subscriptions.csv', '/home/rvissche/Documents/Data_takeout_Nienke_PRIVATE/Youtube/Fake_JSON_takeout-20250220T151747Z-001/Takeout/YouTube and YouTube Music/comments/comments.csv']\n",
      "channel URL configs.csv\n",
      "channel community moderation settings.csv\n",
      "channel page settings.csv\n",
      "channel.csv\n",
      "channel feature data.csv\n",
      "playlists.csv\n",
      "Tryal-videos.csv\n",
      "Watch later-videos.csv\n",
      "HPC-videos.csv\n",
      "subscriptions.csv\n",
      "comments.csv\n"
     ]
    }
   ],
   "source": [
    "# specifying the path to csv files \n",
    "main_path = \"/home/rvissche/Documents/Data_takeout_Nienke_PRIVATE/Youtube/Fake_JSON_takeout-20250220T151747Z-001\"\n",
    "\n",
    "#print(files)\n",
    "  \n",
    "# defining an empty list to store  \n",
    "data_frame = pd.DataFrame() \n",
    "keys = []\n",
    "values = [] \n",
    "  \n",
    "\n",
    "files = glob.glob(main_path + \"/**/*.csv\", recursive = True)\n",
    "print(files)\n",
    "\n",
    "for filename in files: \n",
    "\n",
    "    key = os.path.basename(filename)\n",
    "    keys.append(key)\n",
    "    print(key)\n",
    "\n",
    "    # reading content of csv file \n",
    "    # content.append(filename) \n",
    "    df = pd.read_csv(filename, index_col=None) \n",
    "    values.append(df) \n",
    "\n",
    "\n",
    "csv_dict = {}\n",
    "# Using a for loop to populate the dictionary\n",
    "for i in range(len(keys)):\n",
    "    csv_dict[keys[i]] = values[i]\n"
   ]
  },
  {
   "cell_type": "code",
   "execution_count": 3,
   "metadata": {},
   "outputs": [
    {
     "name": "stdout",
     "output_type": "stream",
     "text": [
      "{'channel URL configs.csv':                  Channel ID Channel Vanity URL 1 Name\n",
      "0  UC_j2ZRnEuf7SFy-XwuN1j6Q        nienkevisscher-v5n, 'channel community moderation settings.csv':                  Channel ID\n",
      "0  UC_j2ZRnEuf7SFy-XwuN1j6Q, 'channel page settings.csv':                  Channel ID\n",
      "0  UC_j2ZRnEuf7SFy-XwuN1j6Q, 'channel.csv':                  Channel ID Channel Title (Original) Channel Visibility\n",
      "0  UC_j2ZRnEuf7SFy-XwuN1j6Q          Nienke Visscher             Public, 'channel feature data.csv':                  Channel ID  Channel Auto Moderation in Live Chat  \\\n",
      "0  UC_j2ZRnEuf7SFy-XwuN1j6Q                                 False   \n",
      "\n",
      "  Video Default Allowed Comments Type Video Default Targeted Audience  \\\n",
      "0                             Not set                         Not set   \n",
      "\n",
      "  Video Default License  Video Default Location Latitude  \\\n",
      "0               Not set                                0   \n",
      "\n",
      "   Video Default Location Longitude  \n",
      "0                                 0  , 'playlists.csv':                           Playlist ID  Add new videos to top  \\\n",
      "0  PLmN5FZRQT461ifsA1Asin--1Nw1P96sd5                  False   \n",
      "1  PLmN5FZRQT462iIkAfnPMdtaBI9r3LKptf                  False   \n",
      "2  PLmN5FZRQT462_65wTw7tiDx6yvRmFkDEJ                   True   \n",
      "3  PLmN5FZRQT460LPjs24M24R8p9oidlYu6s                  False   \n",
      "\n",
      "  Playlist Title (Original) Playlist Title (Original) Language  \\\n",
      "0                     Trial                                NaN   \n",
      "1                     Tryal                                NaN   \n",
      "2               Watch later                              en_US   \n",
      "3                       HPC                                NaN   \n",
      "\n",
      "   Playlist Create Timestamp  Playlist Update Timestamp Playlist Video Order  \\\n",
      "0  2025-02-20T14:47:42+00:00  2025-02-20T14:47:42+00:00               Manual   \n",
      "1  2025-02-20T14:46:47+00:00  2025-02-20T14:46:47+00:00               Manual   \n",
      "2  2025-02-20T14:39:25+00:00  2025-02-20T14:46:40+00:00               Manual   \n",
      "3  2024-10-18T10:43:16+00:00  2024-10-18T10:43:16+00:00               Manual   \n",
      "\n",
      "  Playlist Visibility  \n",
      "0             Private  \n",
      "1             Private  \n",
      "2             Private  \n",
      "3             Private  , 'Tryal-videos.csv':       Video ID Playlist Video Creation Timestamp\n",
      "0  l5YZyMIo388         2025-02-20T14:46:47+00:00, 'Watch later-videos.csv':       Video ID Playlist Video Creation Timestamp\n",
      "0  l5YZyMIo388         2025-02-20T14:46:40+00:00\n",
      "1  kqtD5dpn9C8         2025-02-20T14:39:25+00:00, 'HPC-videos.csv':       Video ID Playlist Video Creation Timestamp\n",
      "0  6hcK6bahQBc         2024-10-18T10:43:16+00:00, 'subscriptions.csv':                  Channel Id  \\\n",
      "0  UCWv7vMbMWH4-V0ZXdmDpPBA   \n",
      "\n",
      "                                         Channel Url          Channel Title  \n",
      "0  http://www.youtube.com/channel/UCWv7vMbMWH4-V0...  Programming with Mosh  , 'comments.csv':                    Comment ID                Channel ID  \\\n",
      "0  Ugwmg0xOZde0-CFhz5x4AaABAg  UC_j2ZRnEuf7SFy-XwuN1j6Q   \n",
      "\n",
      "           Comment Create Timestamp  Price     Video ID  Comment Text  \n",
      "0  2025-02-20T14:46:00.300827+00:00      0  nHW48vVl2RU  {\"text\":\".\"}  }\n"
     ]
    }
   ],
   "source": [
    "print(csv_dict)"
   ]
  },
  {
   "cell_type": "code",
   "execution_count": 6,
   "metadata": {},
   "outputs": [],
   "source": [
    "filter_df = pd.read_csv(\"/home/rvissche/Nextcloud/What-If/what-if-data-donation/what-if-data-donation/json_structure_donations/processed_json_structure_donations/Youtube/Column_names_final/Merged_Column_Names_YT.csv\")"
   ]
  },
  {
   "cell_type": "code",
   "execution_count": 9,
   "metadata": {},
   "outputs": [
    {
     "name": "stdout",
     "output_type": "stream",
     "text": [
      "Index(['Key', 'Values'], dtype='object')\n"
     ]
    }
   ],
   "source": [
    "print(filter_df.columns)\n"
   ]
  },
  {
   "cell_type": "code",
   "execution_count": null,
   "metadata": {},
   "outputs": [],
   "source": [
    "\n",
    "# Step 1: Group columns to keep per CSV/DataFrame\n",
    "grouped = filter_df.groupby('Key')['Values'].apply(list)\n",
    "\n",
    "# Step 2: Safely filter each DataFrame in-place\n",
    "for name, cols in grouped.items():\n",
    "    if name in csv_dict:\n",
    "        # Keep only columns that exist in the actual DataFrame\n",
    "        existing_cols = [col for col in cols if col in csv_dict[name].columns]\n",
    "        csv_dict[name] = csv_dict[name][existing_cols]\n"
   ]
  }
 ],
 "metadata": {
  "kernelspec": {
   "display_name": "data-donations",
   "language": "python",
   "name": "python3"
  },
  "language_info": {
   "codemirror_mode": {
    "name": "ipython",
    "version": 3
   },
   "file_extension": ".py",
   "mimetype": "text/x-python",
   "name": "python",
   "nbconvert_exporter": "python",
   "pygments_lexer": "ipython3",
   "version": "undefined.undefined.undefined"
  }
 },
 "nbformat": 4,
 "nbformat_minor": 2
}
